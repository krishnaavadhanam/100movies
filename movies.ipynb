{
 "cells": [
  {
   "cell_type": "markdown",
   "metadata": {},
   "source": [
    "# Scraping IMDB's Top 100 Movies using Python\n"
   ]
  },
  {
   "cell_type": "markdown",
   "metadata": {},
   "source": [
    "![banner-image](https://scoutlife.org/wp-content/uploads/2011/04/movies-featured.jpg)"
   ]
  },
  {
   "cell_type": "markdown",
   "metadata": {},
   "source": [
    "# **Summary**"
   ]
  },
  {
   "cell_type": "markdown",
   "metadata": {},
   "source": [
    "There are certain movies that everyone, even novice filmgoers, will recognize: Stanley Kubrick’s The Shining; David Lean’s Lawrence of Arabia; David Fincher’s Fight Club; Mike Nichols’ The Graduate. Each is lauded by critics, admired by filmmakers, and adored by audiences. And yet none of them made this list.\n",
    "\n",
    "That’s because the criteria for our list of the 100 Must-Watch Movies to See Before You Die is extremely strict and weighted in historical context. More than a “best movie of all time” list, here are the ones that changed the course of cinema upon their initial release. The ones that inspired or fundamentally altered entire movie genres. Some of these movies are pushing 100 years old, while others were released within the last decade. Regardless, they all hold an important place in the canon of cinema as we know it.\n",
    "\n",
    "Every self-respecting movie fan owes it to themselves to see each of these at least once before they visit that multiplex concession stand in the sky. Our picks range from horror staples like The Thing to markers of entire eras like The Social Network. So if you’re asking yourself “what should I watch?” this list is perfect for you. We know you’ve got time on your hands – better get started!"
   ]
  },
  {
   "cell_type": "markdown",
   "metadata": {},
   "source": [
    "![banner-image](https://cbsnews3.cbsistatic.com/hub/i/r/2016/02/27/8997d982-c95c-40bb-94f3-cec6d35d2686/thumbnail/1200x630g2/7365761cb63a90731c436cdb88c66da6/imdb-home-page-promo.jpg)"
   ]
  },
  {
   "cell_type": "markdown",
   "metadata": {},
   "source": [
    "The IMDB database consists of the entire film library, they have complied a list, there are billions of ratings for the all movies that was ever made.\n",
    "In this project \n",
    "\n",
    "we'll retrive information from multiple pages using web scraping: the process of extracting information from a website in an automated fashion using code. We'll use Python libraries Requests and Beautiful Soup to scarp data from this page. We will then use other libraries like pandas,matplotlib and seaborn to analyse data.\n",
    "\n",
    "Here's an outline of the steps we'll follow:\n",
    "\n",
    "- Download the webpage using Requests\n",
    "- Parse the HTML source code using Beautiful Soup\n",
    "- Extract property information and complie extracted information into Python lists and dictionaries\n",
    "- Save the extracted information to CSV file.\n",
    "- Data analysis using pandas,matplotlib and seaborn\n",
    "- By the end of the project, we'll create a csv file "
   ]
  },
  {
   "cell_type": "code",
   "execution_count": 40,
   "metadata": {},
   "outputs": [],
   "source": [
    "import jovian\n",
    "import requests\n",
    "from bs4 import BeautifulSoup\n",
    "import pandas as pd \n",
    "import seaborn as sb\n",
    "from matplotlib import pyplot as plt"
   ]
  },
  {
   "cell_type": "markdown",
   "metadata": {},
   "source": [
    "## Fetching two different urls from the same website for scraping the website"
   ]
  },
  {
   "cell_type": "code",
   "execution_count": 41,
   "metadata": {},
   "outputs": [],
   "source": [
    "URL='https://www.imdb.com/search/title/?groups=top_100&view=simple'"
   ]
  },
  {
   "cell_type": "code",
   "execution_count": 42,
   "metadata": {},
   "outputs": [],
   "source": [
    "link=URL\n",
    "link2=URL+'&start=51&ref_=adv_nxt'"
   ]
  },
  {
   "cell_type": "code",
   "execution_count": 43,
   "metadata": {},
   "outputs": [],
   "source": [
    "imdb_response = requests.get(link)\n",
    "imdb_response2 = requests.get(link2)"
   ]
  },
  {
   "cell_type": "markdown",
   "metadata": {},
   "source": [
    "## Copying html for future use "
   ]
  },
  {
   "cell_type": "code",
   "execution_count": 44,
   "metadata": {},
   "outputs": [],
   "source": [
    "with open('imdb_response.html', 'w', encoding=\"utf-8\") as file:\n",
    "    file.write(imdb_response.text)\n",
    "    \n",
    "with open('imdb_response2.html', 'w', encoding=\"utf-8\") as file:\n",
    "    file.write(imdb_response2.text)"
   ]
  },
  {
   "cell_type": "markdown",
   "metadata": {},
   "source": [
    "## Commonly used methods "
   ]
  },
  {
   "cell_type": "code",
   "execution_count": 45,
   "metadata": {},
   "outputs": [],
   "source": [
    "#gets beautiful soup objects \n",
    "def getsoupobject(request_response):\n",
    "    return BeautifulSoup(request_response,'html.parser')\n",
    "\n",
    "#gets title from beautiful soup objects \n",
    "def getname(bae_doc):\n",
    "    list_head=[]\n",
    "    headerlist=bae_doc.find_all('img', class_='loadlate')\n",
    "    for i in headerlist:\n",
    "        list_head.append(i['alt'])\n",
    "        \n",
    "    \n",
    "    return list_head\n",
    "\n",
    "#gets rank from beautiful soup objects \n",
    "        \n",
    "def getitemrank(bae_doc):\n",
    "    list_rank=[]\n",
    "    ranker=bae_doc.find_all('span', class_='lister-item-index unbold text-primary')\n",
    "    for i in ranker:\n",
    "        list_rank.append((i.text).replace(\".\",\"\"))\n",
    "    \n",
    "    \n",
    "    return list_rank\n",
    "\n",
    "#gets rating from  beautiful soup objects \n",
    "\n",
    "def getrating(bae_doc):\n",
    "    list_rating=[]\n",
    "    rater=bae_doc.find_all('div', class_='col-imdb-rating')\n",
    "    for i in rater:\n",
    "        value=i.findChildren(\"strong\" , recursive=False)\n",
    "        value=value[0]\n",
    "        list_rating.append(value.text.strip())\n",
    "        \n",
    "        \n",
    "    return list_rating\n",
    "\n",
    "\n",
    "#gets year from beautiful soup objects \n",
    "def getitemyear(bae_doc):\n",
    "    list_year=[]\n",
    "    year=bae_doc.find_all('span', class_='lister-item-year text-muted unbold')\n",
    "    for i in year:\n",
    "        list_year.append((i.text).replace(\"(I)\",\"\").replace(\".\",\"\").replace(\"(\",\"\").replace(\")\",\"\").strip())\n",
    "    \n",
    "    \n",
    "    return list_year"
   ]
  },
  {
   "cell_type": "code",
   "execution_count": 46,
   "metadata": {},
   "outputs": [],
   "source": [
    "doc_imdb1 = getsoupobject(imdb_response.text)\n",
    "doc_imdb2 =getsoupobject(imdb_response2.text)\n"
   ]
  },
  {
   "cell_type": "markdown",
   "metadata": {},
   "source": [
    "## Merging title data below "
   ]
  },
  {
   "cell_type": "markdown",
   "metadata": {},
   "source": [
    "Below we merged two different content(Title) scrapped from two different URL's"
   ]
  },
  {
   "cell_type": "code",
   "execution_count": 47,
   "metadata": {},
   "outputs": [],
   "source": [
    "title1=getname(doc_imdb1)\n",
    "title2=getname(doc_imdb2)\n",
    "title=title1+title2\n"
   ]
  },
  {
   "cell_type": "markdown",
   "metadata": {},
   "source": [
    "## Merging Rank data below "
   ]
  },
  {
   "cell_type": "markdown",
   "metadata": {},
   "source": [
    "Below we merged two different content(Rank) scrapped from two different URL's"
   ]
  },
  {
   "cell_type": "code",
   "execution_count": 48,
   "metadata": {},
   "outputs": [],
   "source": [
    "rank1=getitemrank(doc_imdb1)\n",
    "rank2=getitemrank(doc_imdb2)\n",
    "rank=rank1+rank2\n"
   ]
  },
  {
   "cell_type": "markdown",
   "metadata": {},
   "source": [
    "## Merging Rating data below "
   ]
  },
  {
   "cell_type": "markdown",
   "metadata": {},
   "source": [
    "Below we merged two different content(Rating) scrapped from two different URL's"
   ]
  },
  {
   "cell_type": "code",
   "execution_count": 49,
   "metadata": {},
   "outputs": [],
   "source": [
    "rating1=getrating(doc_imdb1)\n",
    "rating2=getrating(doc_imdb2)\n",
    "rating=rating1+rating2\n"
   ]
  },
  {
   "cell_type": "markdown",
   "metadata": {},
   "source": [
    "## Merging Year data below "
   ]
  },
  {
   "cell_type": "markdown",
   "metadata": {},
   "source": [
    "Below we merged two different content(Year) scrapped from two different URL's"
   ]
  },
  {
   "cell_type": "code",
   "execution_count": 50,
   "metadata": {},
   "outputs": [],
   "source": [
    "year1=getitemyear(doc_imdb1)\n",
    "year2=getitemyear(doc_imdb2)\n",
    "year=year1+year2\n"
   ]
  },
  {
   "cell_type": "markdown",
   "metadata": {},
   "source": [
    " we received title of the movie, rank of the movie , rating of the movie and year of release"
   ]
  },
  {
   "cell_type": "markdown",
   "metadata": {},
   "source": [
    "## Converting the above lists into a dict to make them to a CSV "
   ]
  },
  {
   "cell_type": "code",
   "execution_count": 51,
   "metadata": {},
   "outputs": [],
   "source": [
    "\n",
    "finallist = pd.DataFrame(\n",
    "    {'Ranking': rank,\n",
    "     'Title': title,\n",
    "     'Year': year,\n",
    "     'Rating': rating,\n",
    "    })"
   ]
  },
  {
   "cell_type": "code",
   "execution_count": 52,
   "metadata": {},
   "outputs": [],
   "source": [
    "finallist=finallist.set_index('Ranking')"
   ]
  },
  {
   "cell_type": "code",
   "execution_count": 53,
   "metadata": {},
   "outputs": [
    {
     "data": {
      "text/html": [
       "<div>\n",
       "<style scoped>\n",
       "    .dataframe tbody tr th:only-of-type {\n",
       "        vertical-align: middle;\n",
       "    }\n",
       "\n",
       "    .dataframe tbody tr th {\n",
       "        vertical-align: top;\n",
       "    }\n",
       "\n",
       "    .dataframe thead th {\n",
       "        text-align: right;\n",
       "    }\n",
       "</style>\n",
       "<table border=\"1\" class=\"dataframe\">\n",
       "  <thead>\n",
       "    <tr style=\"text-align: right;\">\n",
       "      <th></th>\n",
       "      <th>Title</th>\n",
       "      <th>Year</th>\n",
       "      <th>Rating</th>\n",
       "    </tr>\n",
       "    <tr>\n",
       "      <th>Ranking</th>\n",
       "      <th></th>\n",
       "      <th></th>\n",
       "      <th></th>\n",
       "    </tr>\n",
       "  </thead>\n",
       "  <tbody>\n",
       "    <tr>\n",
       "      <th>1</th>\n",
       "      <td>Everything Everywhere All at Once</td>\n",
       "      <td>2022</td>\n",
       "      <td>8.8</td>\n",
       "    </tr>\n",
       "    <tr>\n",
       "      <th>2</th>\n",
       "      <td>The Godfather</td>\n",
       "      <td>1972</td>\n",
       "      <td>9.2</td>\n",
       "    </tr>\n",
       "    <tr>\n",
       "      <th>3</th>\n",
       "      <td>Avengers: Endgame</td>\n",
       "      <td>2019</td>\n",
       "      <td>8.4</td>\n",
       "    </tr>\n",
       "    <tr>\n",
       "      <th>4</th>\n",
       "      <td>The Dark Knight</td>\n",
       "      <td>2008</td>\n",
       "      <td>9</td>\n",
       "    </tr>\n",
       "    <tr>\n",
       "      <th>5</th>\n",
       "      <td>The Shawshank Redemption</td>\n",
       "      <td>1994</td>\n",
       "      <td>9.3</td>\n",
       "    </tr>\n",
       "    <tr>\n",
       "      <th>...</th>\n",
       "      <td>...</td>\n",
       "      <td>...</td>\n",
       "      <td>...</td>\n",
       "    </tr>\n",
       "    <tr>\n",
       "      <th>96</th>\n",
       "      <td>Witness for the Prosecution</td>\n",
       "      <td>1957</td>\n",
       "      <td>8.4</td>\n",
       "    </tr>\n",
       "    <tr>\n",
       "      <th>97</th>\n",
       "      <td>Modern Times</td>\n",
       "      <td>1936</td>\n",
       "      <td>8.5</td>\n",
       "    </tr>\n",
       "    <tr>\n",
       "      <th>98</th>\n",
       "      <td>The Great Dictator</td>\n",
       "      <td>1940</td>\n",
       "      <td>8.4</td>\n",
       "    </tr>\n",
       "    <tr>\n",
       "      <th>99</th>\n",
       "      <td>High and Low</td>\n",
       "      <td>1963</td>\n",
       "      <td>8.4</td>\n",
       "    </tr>\n",
       "    <tr>\n",
       "      <th>100</th>\n",
       "      <td>City Lights</td>\n",
       "      <td>1931</td>\n",
       "      <td>8.5</td>\n",
       "    </tr>\n",
       "  </tbody>\n",
       "</table>\n",
       "<p>100 rows × 3 columns</p>\n",
       "</div>"
      ],
      "text/plain": [
       "                                     Title  Year Rating\n",
       "Ranking                                                \n",
       "1        Everything Everywhere All at Once  2022    8.8\n",
       "2                            The Godfather  1972    9.2\n",
       "3                        Avengers: Endgame  2019    8.4\n",
       "4                          The Dark Knight  2008      9\n",
       "5                 The Shawshank Redemption  1994    9.3\n",
       "...                                    ...   ...    ...\n",
       "96             Witness for the Prosecution  1957    8.4\n",
       "97                            Modern Times  1936    8.5\n",
       "98                      The Great Dictator  1940    8.4\n",
       "99                            High and Low  1963    8.4\n",
       "100                            City Lights  1931    8.5\n",
       "\n",
       "[100 rows x 3 columns]"
      ]
     },
     "execution_count": 53,
     "metadata": {},
     "output_type": "execute_result"
    }
   ],
   "source": [
    "finallist"
   ]
  },
  {
   "cell_type": "code",
   "execution_count": 54,
   "metadata": {},
   "outputs": [
    {
     "data": {
      "image/png": "[encoded data removed]",
      "text/plain": [
       "<Figure size 432x432 with 3 Axes>"
      ]
     },
     "metadata": {
      "needs_background": "light"
     },
     "output_type": "display_data"
    }
   ],
   "source": [
    "sb.jointplot(x = \"Rating\", y = \"Year\", data = finallist)\n",
    "plt.show()\n"
   ]
  },
  {
   "cell_type": "markdown",
   "metadata": {},
   "source": [
    "The above figure points to the the year wise data with the number of movies release along with the user rating of those movies"
   ]
  },
  {
   "cell_type": "markdown",
   "metadata": {},
   "source": [
    "## Final csv generated below "
   ]
  },
  {
   "cell_type": "code",
   "execution_count": 55,
   "metadata": {},
   "outputs": [],
   "source": [
    "finallist.to_csv('test.csv')\n"
   ]
  },
  {
   "cell_type": "code",
   "execution_count": 56,
   "metadata": {},
   "outputs": [
    {
     "data": {
      "application/javascript": [
       "window.require && require([\"base/js/namespace\"],function(Jupyter){Jupyter.notebook.save_checkpoint()})"
      ],
      "text/plain": [
       "<IPython.core.display.Javascript object>"
      ]
     },
     "metadata": {},
     "output_type": "display_data"
    },
    {
     "name": "stdout",
     "output_type": "stream",
     "text": [
      "[jovian] Updating notebook \"krishna-avadhanam1/project-mark1-topmovies\" on https://jovian.ai\u001b[0m\n",
      "[jovian] Committed successfully! https://jovian.ai/krishna-avadhanam1/project-mark1-topmovies\u001b[0m\n"
     ]
    },
    {
     "data": {
      "text/plain": [
       "'https://jovian.ai/krishna-avadhanam1/project-mark1-topmovies'"
      ]
     },
     "execution_count": 56,
     "metadata": {},
     "output_type": "execute_result"
    }
   ],
   "source": [
    "# Execute this to save new versions of the notebook\n",
    "jovian.commit(project=\"project-mark1-topmovies\")"
   ]
  },
  {
   "cell_type": "code",
   "execution_count": 57,
   "metadata": {},
   "outputs": [
    {
     "data": {
      "application/javascript": [
       "window.require && require([\"base/js/namespace\"],function(Jupyter){Jupyter.notebook.save_checkpoint()})"
      ],
      "text/plain": [
       "<IPython.core.display.Javascript object>"
      ]
     },
     "metadata": {},
     "output_type": "display_data"
    },
    {
     "name": "stdout",
     "output_type": "stream",
     "text": [
      "[jovian] Updating notebook \"krishna-avadhanam1/project-mark1-topmovies\" on https://jovian.ai\u001b[0m\n",
      "[jovian] Uploading additional files...\u001b[0m\n",
      "[jovian] Committed successfully! https://jovian.ai/krishna-avadhanam1/project-mark1-topmovies\u001b[0m\n"
     ]
    },
    {
     "data": {
      "text/plain": [
       "'https://jovian.ai/krishna-avadhanam1/project-mark1-topmovies'"
      ]
     },
     "execution_count": 57,
     "metadata": {},
     "output_type": "execute_result"
    }
   ],
   "source": [
    "jovian.commit(files = ['test.csv'])"
   ]
  },
  {
   "cell_type": "code",
   "execution_count": null,
   "metadata": {},
   "outputs": [],
   "source": []
  },
  {
   "cell_type": "code",
   "execution_count": null,
   "metadata": {},
   "outputs": [],
   "source": []
  },
  {
   "cell_type": "code",
   "execution_count": null,
   "metadata": {},
   "outputs": [],
   "source": []
  },
  {
   "cell_type": "code",
   "execution_count": null,
   "metadata": {},
   "outputs": [],
   "source": []
  }
 ],
 "metadata": {
  "kernelspec": {
   "display_name": "Python 3 (ipykernel)",
   "language": "python",
   "name": "python3"
  },
  "language_info": {
   "codemirror_mode": {
    "name": "ipython",
    "version": 3
   },
   "file_extension": ".py",
   "mimetype": "text/x-python",
   "name": "python",
   "nbconvert_exporter": "python",
   "pygments_lexer": "ipython3",
   "version": "3.9.6"
  }
 },
 "nbformat": 4,
 "nbformat_minor": 2
}
